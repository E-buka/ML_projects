{
 "cells": [
  {
   "cell_type": "markdown",
   "id": "6a10b8f3-b9c7-4913-8ae2-b50136713e1b",
   "metadata": {},
   "source": [
    "# Forest Fire Damage Prediction"
   ]
  },
  {
   "cell_type": "code",
   "execution_count": 1,
   "id": "ed697982-7cc7-4b6a-8078-637937303027",
   "metadata": {},
   "outputs": [],
   "source": [
    "import pandas as pd\n",
    "import numpy as np\n"
   ]
  },
  {
   "cell_type": "code",
   "execution_count": 2,
   "id": "dc7bad87-f32d-4ad0-b30e-8d86f080bd7d",
   "metadata": {},
   "outputs": [
    {
     "data": {
      "text/html": [
       "<div>\n",
       "<style scoped>\n",
       "    .dataframe tbody tr th:only-of-type {\n",
       "        vertical-align: middle;\n",
       "    }\n",
       "\n",
       "    .dataframe tbody tr th {\n",
       "        vertical-align: top;\n",
       "    }\n",
       "\n",
       "    .dataframe thead th {\n",
       "        text-align: right;\n",
       "    }\n",
       "</style>\n",
       "<table border=\"1\" class=\"dataframe\">\n",
       "  <thead>\n",
       "    <tr style=\"text-align: right;\">\n",
       "      <th></th>\n",
       "      <th>Unnamed: 0</th>\n",
       "      <th>X</th>\n",
       "      <th>Y</th>\n",
       "      <th>month</th>\n",
       "      <th>day</th>\n",
       "      <th>FFMC</th>\n",
       "      <th>DMC</th>\n",
       "      <th>DC</th>\n",
       "      <th>ISI</th>\n",
       "      <th>temp</th>\n",
       "      <th>RH</th>\n",
       "      <th>wind</th>\n",
       "      <th>rain</th>\n",
       "      <th>area</th>\n",
       "    </tr>\n",
       "  </thead>\n",
       "  <tbody>\n",
       "    <tr>\n",
       "      <th>0</th>\n",
       "      <td>1</td>\n",
       "      <td>7</td>\n",
       "      <td>5</td>\n",
       "      <td>mar</td>\n",
       "      <td>fri</td>\n",
       "      <td>86.2</td>\n",
       "      <td>26.2</td>\n",
       "      <td>94.3</td>\n",
       "      <td>5.1</td>\n",
       "      <td>NaN</td>\n",
       "      <td>51.0</td>\n",
       "      <td>6.7</td>\n",
       "      <td>0.0</td>\n",
       "      <td>0.0</td>\n",
       "    </tr>\n",
       "    <tr>\n",
       "      <th>1</th>\n",
       "      <td>2</td>\n",
       "      <td>7</td>\n",
       "      <td>4</td>\n",
       "      <td>oct</td>\n",
       "      <td>tue</td>\n",
       "      <td>90.6</td>\n",
       "      <td>NaN</td>\n",
       "      <td>669.1</td>\n",
       "      <td>6.7</td>\n",
       "      <td>18.0</td>\n",
       "      <td>33.0</td>\n",
       "      <td>0.9</td>\n",
       "      <td>0.0</td>\n",
       "      <td>0.0</td>\n",
       "    </tr>\n",
       "    <tr>\n",
       "      <th>2</th>\n",
       "      <td>3</td>\n",
       "      <td>7</td>\n",
       "      <td>4</td>\n",
       "      <td>oct</td>\n",
       "      <td>sat</td>\n",
       "      <td>90.6</td>\n",
       "      <td>43.7</td>\n",
       "      <td>NaN</td>\n",
       "      <td>6.7</td>\n",
       "      <td>14.6</td>\n",
       "      <td>33.0</td>\n",
       "      <td>1.3</td>\n",
       "      <td>0.0</td>\n",
       "      <td>0.0</td>\n",
       "    </tr>\n",
       "    <tr>\n",
       "      <th>3</th>\n",
       "      <td>4</td>\n",
       "      <td>8</td>\n",
       "      <td>6</td>\n",
       "      <td>mar</td>\n",
       "      <td>fri</td>\n",
       "      <td>91.7</td>\n",
       "      <td>33.3</td>\n",
       "      <td>77.5</td>\n",
       "      <td>9.0</td>\n",
       "      <td>8.3</td>\n",
       "      <td>97.0</td>\n",
       "      <td>4.0</td>\n",
       "      <td>0.2</td>\n",
       "      <td>0.0</td>\n",
       "    </tr>\n",
       "    <tr>\n",
       "      <th>4</th>\n",
       "      <td>5</td>\n",
       "      <td>8</td>\n",
       "      <td>6</td>\n",
       "      <td>mar</td>\n",
       "      <td>sun</td>\n",
       "      <td>89.3</td>\n",
       "      <td>51.3</td>\n",
       "      <td>102.2</td>\n",
       "      <td>9.6</td>\n",
       "      <td>11.4</td>\n",
       "      <td>99.0</td>\n",
       "      <td>NaN</td>\n",
       "      <td>0.0</td>\n",
       "      <td>0.0</td>\n",
       "    </tr>\n",
       "  </tbody>\n",
       "</table>\n",
       "</div>"
      ],
      "text/plain": [
       "   Unnamed: 0  X  Y month  day  FFMC   DMC     DC  ISI  temp    RH  wind  \\\n",
       "0           1  7  5   mar  fri  86.2  26.2   94.3  5.1   NaN  51.0   6.7   \n",
       "1           2  7  4   oct  tue  90.6   NaN  669.1  6.7  18.0  33.0   0.9   \n",
       "2           3  7  4   oct  sat  90.6  43.7    NaN  6.7  14.6  33.0   1.3   \n",
       "3           4  8  6   mar  fri  91.7  33.3   77.5  9.0   8.3  97.0   4.0   \n",
       "4           5  8  6   mar  sun  89.3  51.3  102.2  9.6  11.4  99.0   NaN   \n",
       "\n",
       "   rain  area  \n",
       "0   0.0   0.0  \n",
       "1   0.0   0.0  \n",
       "2   0.0   0.0  \n",
       "3   0.2   0.0  \n",
       "4   0.0   0.0  "
      ]
     },
     "execution_count": 2,
     "metadata": {},
     "output_type": "execute_result"
    }
   ],
   "source": [
    "fires = pd.read_csv('fires.csv')\n",
    "fires.head()"
   ]
  },
  {
   "cell_type": "code",
   "execution_count": 3,
   "id": "211f70a5-27b3-42fc-b452-0fb82b016679",
   "metadata": {},
   "outputs": [
    {
     "data": {
      "text/html": [
       "<div>\n",
       "<style scoped>\n",
       "    .dataframe tbody tr th:only-of-type {\n",
       "        vertical-align: middle;\n",
       "    }\n",
       "\n",
       "    .dataframe tbody tr th {\n",
       "        vertical-align: top;\n",
       "    }\n",
       "\n",
       "    .dataframe thead th {\n",
       "        text-align: right;\n",
       "    }\n",
       "</style>\n",
       "<table border=\"1\" class=\"dataframe\">\n",
       "  <thead>\n",
       "    <tr style=\"text-align: right;\">\n",
       "      <th></th>\n",
       "      <th>Unnamed: 0</th>\n",
       "      <th>X</th>\n",
       "      <th>Y</th>\n",
       "      <th>FFMC</th>\n",
       "      <th>DMC</th>\n",
       "      <th>DC</th>\n",
       "      <th>ISI</th>\n",
       "      <th>temp</th>\n",
       "      <th>RH</th>\n",
       "      <th>wind</th>\n",
       "      <th>rain</th>\n",
       "      <th>area</th>\n",
       "    </tr>\n",
       "  </thead>\n",
       "  <tbody>\n",
       "    <tr>\n",
       "      <th>count</th>\n",
       "      <td>517.000000</td>\n",
       "      <td>517.000000</td>\n",
       "      <td>517.000000</td>\n",
       "      <td>469.000000</td>\n",
       "      <td>496.000000</td>\n",
       "      <td>474.000000</td>\n",
       "      <td>515.000000</td>\n",
       "      <td>496.000000</td>\n",
       "      <td>487.000000</td>\n",
       "      <td>482.000000</td>\n",
       "      <td>485.000000</td>\n",
       "      <td>517.000000</td>\n",
       "    </tr>\n",
       "    <tr>\n",
       "      <th>mean</th>\n",
       "      <td>259.000000</td>\n",
       "      <td>4.669246</td>\n",
       "      <td>4.299807</td>\n",
       "      <td>90.580384</td>\n",
       "      <td>111.195363</td>\n",
       "      <td>550.673418</td>\n",
       "      <td>9.018835</td>\n",
       "      <td>18.884677</td>\n",
       "      <td>44.381930</td>\n",
       "      <td>4.021784</td>\n",
       "      <td>0.023093</td>\n",
       "      <td>12.847292</td>\n",
       "    </tr>\n",
       "    <tr>\n",
       "      <th>std</th>\n",
       "      <td>149.389312</td>\n",
       "      <td>2.313778</td>\n",
       "      <td>1.229900</td>\n",
       "      <td>5.698137</td>\n",
       "      <td>64.008450</td>\n",
       "      <td>246.061309</td>\n",
       "      <td>4.564890</td>\n",
       "      <td>5.748318</td>\n",
       "      <td>16.180372</td>\n",
       "      <td>1.794460</td>\n",
       "      <td>0.305532</td>\n",
       "      <td>63.655818</td>\n",
       "    </tr>\n",
       "    <tr>\n",
       "      <th>min</th>\n",
       "      <td>1.000000</td>\n",
       "      <td>1.000000</td>\n",
       "      <td>2.000000</td>\n",
       "      <td>18.700000</td>\n",
       "      <td>1.100000</td>\n",
       "      <td>7.900000</td>\n",
       "      <td>0.000000</td>\n",
       "      <td>2.200000</td>\n",
       "      <td>15.000000</td>\n",
       "      <td>0.400000</td>\n",
       "      <td>0.000000</td>\n",
       "      <td>0.000000</td>\n",
       "    </tr>\n",
       "    <tr>\n",
       "      <th>25%</th>\n",
       "      <td>130.000000</td>\n",
       "      <td>3.000000</td>\n",
       "      <td>4.000000</td>\n",
       "      <td>90.200000</td>\n",
       "      <td>70.800000</td>\n",
       "      <td>441.200000</td>\n",
       "      <td>6.450000</td>\n",
       "      <td>15.475000</td>\n",
       "      <td>33.000000</td>\n",
       "      <td>2.700000</td>\n",
       "      <td>0.000000</td>\n",
       "      <td>0.000000</td>\n",
       "    </tr>\n",
       "    <tr>\n",
       "      <th>50%</th>\n",
       "      <td>259.000000</td>\n",
       "      <td>4.000000</td>\n",
       "      <td>4.000000</td>\n",
       "      <td>91.600000</td>\n",
       "      <td>108.300000</td>\n",
       "      <td>664.500000</td>\n",
       "      <td>8.400000</td>\n",
       "      <td>19.300000</td>\n",
       "      <td>42.000000</td>\n",
       "      <td>4.000000</td>\n",
       "      <td>0.000000</td>\n",
       "      <td>0.520000</td>\n",
       "    </tr>\n",
       "    <tr>\n",
       "      <th>75%</th>\n",
       "      <td>388.000000</td>\n",
       "      <td>7.000000</td>\n",
       "      <td>5.000000</td>\n",
       "      <td>92.800000</td>\n",
       "      <td>141.575000</td>\n",
       "      <td>713.900000</td>\n",
       "      <td>10.750000</td>\n",
       "      <td>22.725000</td>\n",
       "      <td>53.500000</td>\n",
       "      <td>4.900000</td>\n",
       "      <td>0.000000</td>\n",
       "      <td>6.570000</td>\n",
       "    </tr>\n",
       "    <tr>\n",
       "      <th>max</th>\n",
       "      <td>517.000000</td>\n",
       "      <td>9.000000</td>\n",
       "      <td>9.000000</td>\n",
       "      <td>96.200000</td>\n",
       "      <td>291.300000</td>\n",
       "      <td>860.600000</td>\n",
       "      <td>56.100000</td>\n",
       "      <td>33.300000</td>\n",
       "      <td>100.000000</td>\n",
       "      <td>9.400000</td>\n",
       "      <td>6.400000</td>\n",
       "      <td>1090.840000</td>\n",
       "    </tr>\n",
       "  </tbody>\n",
       "</table>\n",
       "</div>"
      ],
      "text/plain": [
       "       Unnamed: 0           X           Y        FFMC         DMC          DC  \\\n",
       "count  517.000000  517.000000  517.000000  469.000000  496.000000  474.000000   \n",
       "mean   259.000000    4.669246    4.299807   90.580384  111.195363  550.673418   \n",
       "std    149.389312    2.313778    1.229900    5.698137   64.008450  246.061309   \n",
       "min      1.000000    1.000000    2.000000   18.700000    1.100000    7.900000   \n",
       "25%    130.000000    3.000000    4.000000   90.200000   70.800000  441.200000   \n",
       "50%    259.000000    4.000000    4.000000   91.600000  108.300000  664.500000   \n",
       "75%    388.000000    7.000000    5.000000   92.800000  141.575000  713.900000   \n",
       "max    517.000000    9.000000    9.000000   96.200000  291.300000  860.600000   \n",
       "\n",
       "              ISI        temp          RH        wind        rain         area  \n",
       "count  515.000000  496.000000  487.000000  482.000000  485.000000   517.000000  \n",
       "mean     9.018835   18.884677   44.381930    4.021784    0.023093    12.847292  \n",
       "std      4.564890    5.748318   16.180372    1.794460    0.305532    63.655818  \n",
       "min      0.000000    2.200000   15.000000    0.400000    0.000000     0.000000  \n",
       "25%      6.450000   15.475000   33.000000    2.700000    0.000000     0.000000  \n",
       "50%      8.400000   19.300000   42.000000    4.000000    0.000000     0.520000  \n",
       "75%     10.750000   22.725000   53.500000    4.900000    0.000000     6.570000  \n",
       "max     56.100000   33.300000  100.000000    9.400000    6.400000  1090.840000  "
      ]
     },
     "execution_count": 3,
     "metadata": {},
     "output_type": "execute_result"
    }
   ],
   "source": [
    "fires.describe()"
   ]
  },
  {
   "cell_type": "code",
   "execution_count": 4,
   "id": "1c577f88-b716-4f9c-9829-faa507bdee47",
   "metadata": {},
   "outputs": [
    {
     "name": "stdout",
     "output_type": "stream",
     "text": [
      "<class 'pandas.core.frame.DataFrame'>\n",
      "RangeIndex: 517 entries, 0 to 516\n",
      "Data columns (total 14 columns):\n",
      " #   Column      Non-Null Count  Dtype  \n",
      "---  ------      --------------  -----  \n",
      " 0   Unnamed: 0  517 non-null    int64  \n",
      " 1   X           517 non-null    int64  \n",
      " 2   Y           517 non-null    int64  \n",
      " 3   month       517 non-null    object \n",
      " 4   day         517 non-null    object \n",
      " 5   FFMC        469 non-null    float64\n",
      " 6   DMC         496 non-null    float64\n",
      " 7   DC          474 non-null    float64\n",
      " 8   ISI         515 non-null    float64\n",
      " 9   temp        496 non-null    float64\n",
      " 10  RH          487 non-null    float64\n",
      " 11  wind        482 non-null    float64\n",
      " 12  rain        485 non-null    float64\n",
      " 13  area        517 non-null    float64\n",
      "dtypes: float64(9), int64(3), object(2)\n",
      "memory usage: 56.7+ KB\n"
     ]
    }
   ],
   "source": [
    "fires.info()"
   ]
  },
  {
   "cell_type": "markdown",
   "id": "985dad0c-88ca-4918-a073-3790d672db2f",
   "metadata": {},
   "source": [
    "### Data Preparation\n",
    "I will change the month and day column to numbers using 1 to 12 to represent January to December and day column as 1 to 7 to represent Monday to Sunday.   \n",
    "Afterwards, I will focus on the empty rows in the data to either update or discard them."
   ]
  },
  {
   "cell_type": "code",
   "execution_count": 5,
   "id": "dabf7781-2103-4bf2-b2a0-21895ed031c0",
   "metadata": {},
   "outputs": [
    {
     "data": {
      "text/plain": [
       "array(['mar', 'oct', 'aug', 'sep', 'apr', 'jun', 'jul', 'feb', 'jan',\n",
       "       'dec', 'may', 'nov'], dtype=object)"
      ]
     },
     "execution_count": 5,
     "metadata": {},
     "output_type": "execute_result"
    }
   ],
   "source": [
    "fires.month.unique()"
   ]
  },
  {
   "cell_type": "code",
   "execution_count": 6,
   "id": "7fef91c3-219d-4cb1-8c95-691ee9ab516e",
   "metadata": {},
   "outputs": [
    {
     "data": {
      "text/plain": [
       "array(['fri', 'tue', 'sat', 'sun', 'mon', 'wed', 'thu'], dtype=object)"
      ]
     },
     "execution_count": 6,
     "metadata": {},
     "output_type": "execute_result"
    }
   ],
   "source": [
    "fires.day.unique()"
   ]
  },
  {
   "cell_type": "code",
   "execution_count": 7,
   "id": "fac715ec-6da4-4637-9924-926bc6aef2f8",
   "metadata": {},
   "outputs": [],
   "source": [
    "from sklearn.preprocessing import OrdinalEncoder\n",
    "\n",
    "ordinal_month = [['jan', 'feb', 'mar', 'apr', 'may', 'jun', 'jul', 'aug', 'sep', 'oct', 'nov', 'dec']]\n",
    "ordinal_day = [['mon', 'tue', 'wed', 'thu', 'fri', 'sat', 'sun']]\n",
    "\n",
    "fires['month'] = OrdinalEncoder(categories=ordinal_month, dtype=int).fit_transform(fires[['month']])+1\n",
    "fires['day'] = OrdinalEncoder(categories=ordinal_day, dtype=int).fit_transform(fires[['day']])+1"
   ]
  },
  {
   "cell_type": "code",
   "execution_count": 8,
   "id": "3641e3f8-1946-4e66-b798-0044877bc19f",
   "metadata": {},
   "outputs": [
    {
     "data": {
      "text/plain": [
       "array([ 3, 10,  8,  9,  4,  6,  7,  2,  1, 12,  5, 11])"
      ]
     },
     "execution_count": 8,
     "metadata": {},
     "output_type": "execute_result"
    }
   ],
   "source": [
    "fires.month.unique()"
   ]
  },
  {
   "cell_type": "code",
   "execution_count": 9,
   "id": "45b55a0d-28e6-432a-b15f-3949c182a9d5",
   "metadata": {},
   "outputs": [],
   "source": [
    "fires.rename(columns={'month':'month_1_jan',\n",
    "                      'day':'day_1_mon'\n",
    "                     }, inplace=True)"
   ]
  },
  {
   "cell_type": "markdown",
   "id": "18137c93-3591-4b49-a47b-8d7be4fca72f",
   "metadata": {},
   "source": [
    "##### FFMC, DMC and DC column update\n",
    "Fine fuel moisture code (ffmc) within the fire weather index (fwi) is a numeric rating of the moisture content of litter and other cure fine fuels. The daily ffmc is calculated based on weather data like temperature, humidity, wind speed etc. The DMC (duff moisture code) and DC (drought code) are all components of FWI the describe moiture content and are used to describe risk of fire. Therefore in order to fill the columns I will like to take into account the month of the missing. The idea behind this is that the weather is different accros every month of the year. I will explore the distribution of the data in the columns by month and use the mean values to impute the NaN values since the data is widely distributed. "
   ]
  },
  {
   "cell_type": "code",
   "execution_count": 10,
   "id": "fa1ea5f1-5209-4810-b069-8bf5418c969b",
   "metadata": {},
   "outputs": [
    {
     "data": {
      "image/png": "[encoded data removed]",
      "text/plain": [
       "<Figure size 500x500 with 1 Axes>"
      ]
     },
     "metadata": {},
     "output_type": "display_data"
    },
    {
     "data": {
      "image/png": "[encoded data removed]",
      "text/plain": [
       "<Figure size 500x500 with 1 Axes>"
      ]
     },
     "metadata": {},
     "output_type": "display_data"
    },
    {
     "data": {
      "image/png": "[encoded data removed]",
      "text/plain": [
       "<Figure size 500x500 with 1 Axes>"
      ]
     },
     "metadata": {},
     "output_type": "display_data"
    }
   ],
   "source": [
    "import matplotlib.pyplot as plt \n",
    "\n",
    "col = ['FFMC', 'DMC', 'DC']\n",
    "\n",
    "for item in col:\n",
    "    fires.boxplot(column=item, by='month_1_jan', figsize=(5,5), fontsize=6)\n",
    "    plt.title(item, fontsize=9)\n",
    "plt.show()\n"
   ]
  },
  {
   "cell_type": "markdown",
   "id": "79bbaa79-a7e4-41ed-8a60-b8f21321b150",
   "metadata": {},
   "source": [
    "The results prove that the means of FFMC changes accross the month"
   ]
  },
  {
   "cell_type": "code",
   "execution_count": 11,
   "id": "4dfd18af-465d-460e-8a00-8e8ccaf3ae55",
   "metadata": {},
   "outputs": [
    {
     "data": {
      "text/html": [
       "<div>\n",
       "<style scoped>\n",
       "    .dataframe tbody tr th:only-of-type {\n",
       "        vertical-align: middle;\n",
       "    }\n",
       "\n",
       "    .dataframe tbody tr th {\n",
       "        vertical-align: top;\n",
       "    }\n",
       "\n",
       "    .dataframe thead th {\n",
       "        text-align: right;\n",
       "    }\n",
       "</style>\n",
       "<table border=\"1\" class=\"dataframe\">\n",
       "  <thead>\n",
       "    <tr style=\"text-align: right;\">\n",
       "      <th></th>\n",
       "      <th>Unnamed: 0</th>\n",
       "      <th>X</th>\n",
       "      <th>Y</th>\n",
       "      <th>month_1_jan</th>\n",
       "      <th>day_1_mon</th>\n",
       "      <th>ISI</th>\n",
       "      <th>temp</th>\n",
       "      <th>RH</th>\n",
       "      <th>wind</th>\n",
       "      <th>rain</th>\n",
       "      <th>area</th>\n",
       "      <th>FFMC</th>\n",
       "      <th>DMC</th>\n",
       "      <th>DC</th>\n",
       "    </tr>\n",
       "  </thead>\n",
       "  <tbody>\n",
       "    <tr>\n",
       "      <th>0</th>\n",
       "      <td>1</td>\n",
       "      <td>7</td>\n",
       "      <td>5</td>\n",
       "      <td>3</td>\n",
       "      <td>5</td>\n",
       "      <td>5.1</td>\n",
       "      <td>NaN</td>\n",
       "      <td>51.0</td>\n",
       "      <td>6.7</td>\n",
       "      <td>0.0</td>\n",
       "      <td>0.0</td>\n",
       "      <td>86.2</td>\n",
       "      <td>26.200000</td>\n",
       "      <td>94.300000</td>\n",
       "    </tr>\n",
       "    <tr>\n",
       "      <th>1</th>\n",
       "      <td>2</td>\n",
       "      <td>7</td>\n",
       "      <td>4</td>\n",
       "      <td>10</td>\n",
       "      <td>2</td>\n",
       "      <td>6.7</td>\n",
       "      <td>18.0</td>\n",
       "      <td>33.0</td>\n",
       "      <td>0.9</td>\n",
       "      <td>0.0</td>\n",
       "      <td>0.0</td>\n",
       "      <td>90.6</td>\n",
       "      <td>111.195363</td>\n",
       "      <td>669.100000</td>\n",
       "    </tr>\n",
       "    <tr>\n",
       "      <th>2</th>\n",
       "      <td>3</td>\n",
       "      <td>7</td>\n",
       "      <td>4</td>\n",
       "      <td>10</td>\n",
       "      <td>6</td>\n",
       "      <td>6.7</td>\n",
       "      <td>14.6</td>\n",
       "      <td>33.0</td>\n",
       "      <td>1.3</td>\n",
       "      <td>0.0</td>\n",
       "      <td>0.0</td>\n",
       "      <td>90.6</td>\n",
       "      <td>43.700000</td>\n",
       "      <td>550.673418</td>\n",
       "    </tr>\n",
       "    <tr>\n",
       "      <th>3</th>\n",
       "      <td>4</td>\n",
       "      <td>8</td>\n",
       "      <td>6</td>\n",
       "      <td>3</td>\n",
       "      <td>5</td>\n",
       "      <td>9.0</td>\n",
       "      <td>8.3</td>\n",
       "      <td>97.0</td>\n",
       "      <td>4.0</td>\n",
       "      <td>0.2</td>\n",
       "      <td>0.0</td>\n",
       "      <td>91.7</td>\n",
       "      <td>33.300000</td>\n",
       "      <td>77.500000</td>\n",
       "    </tr>\n",
       "    <tr>\n",
       "      <th>4</th>\n",
       "      <td>5</td>\n",
       "      <td>8</td>\n",
       "      <td>6</td>\n",
       "      <td>3</td>\n",
       "      <td>7</td>\n",
       "      <td>9.6</td>\n",
       "      <td>11.4</td>\n",
       "      <td>99.0</td>\n",
       "      <td>NaN</td>\n",
       "      <td>0.0</td>\n",
       "      <td>0.0</td>\n",
       "      <td>89.3</td>\n",
       "      <td>51.300000</td>\n",
       "      <td>102.200000</td>\n",
       "    </tr>\n",
       "  </tbody>\n",
       "</table>\n",
       "</div>"
      ],
      "text/plain": [
       "   Unnamed: 0  X  Y  month_1_jan  day_1_mon  ISI  temp    RH  wind  rain  \\\n",
       "0           1  7  5            3          5  5.1   NaN  51.0   6.7   0.0   \n",
       "1           2  7  4           10          2  6.7  18.0  33.0   0.9   0.0   \n",
       "2           3  7  4           10          6  6.7  14.6  33.0   1.3   0.0   \n",
       "3           4  8  6            3          5  9.0   8.3  97.0   4.0   0.2   \n",
       "4           5  8  6            3          7  9.6  11.4  99.0   NaN   0.0   \n",
       "\n",
       "   area  FFMC         DMC          DC  \n",
       "0   0.0  86.2   26.200000   94.300000  \n",
       "1   0.0  90.6  111.195363  669.100000  \n",
       "2   0.0  90.6   43.700000  550.673418  \n",
       "3   0.0  91.7   33.300000   77.500000  \n",
       "4   0.0  89.3   51.300000  102.200000  "
      ]
     },
     "execution_count": 11,
     "metadata": {},
     "output_type": "execute_result"
    }
   ],
   "source": [
    "from sklearn.impute import SimpleImputer\n",
    "\n",
    "imp = SimpleImputer(missing_values=np.nan, strategy='mean')\n",
    "weather_cols = pd.DataFrame(imp.fit_transform(fires[col]), columns=col)\n",
    "fires.drop(col, axis = 1, inplace=True)\n",
    "fires = pd.concat([fires, weather_cols], axis=1)\n",
    "fires.head()"
   ]
  },
  {
   "cell_type": "code",
   "execution_count": 12,
   "id": "877284cc-c3d4-4486-af0e-6c46eaa57f5c",
   "metadata": {},
   "outputs": [
    {
     "data": {
      "text/html": [
       "<div>\n",
       "<style scoped>\n",
       "    .dataframe tbody tr th:only-of-type {\n",
       "        vertical-align: middle;\n",
       "    }\n",
       "\n",
       "    .dataframe tbody tr th {\n",
       "        vertical-align: top;\n",
       "    }\n",
       "\n",
       "    .dataframe thead th {\n",
       "        text-align: right;\n",
       "    }\n",
       "</style>\n",
       "<table border=\"1\" class=\"dataframe\">\n",
       "  <thead>\n",
       "    <tr style=\"text-align: right;\">\n",
       "      <th></th>\n",
       "      <th>ISI</th>\n",
       "      <th>temp</th>\n",
       "      <th>RH</th>\n",
       "      <th>wind</th>\n",
       "      <th>rain</th>\n",
       "    </tr>\n",
       "  </thead>\n",
       "  <tbody>\n",
       "    <tr>\n",
       "      <th>count</th>\n",
       "      <td>515.000000</td>\n",
       "      <td>496.000000</td>\n",
       "      <td>487.000000</td>\n",
       "      <td>482.000000</td>\n",
       "      <td>485.000000</td>\n",
       "    </tr>\n",
       "    <tr>\n",
       "      <th>mean</th>\n",
       "      <td>9.018835</td>\n",
       "      <td>18.884677</td>\n",
       "      <td>44.381930</td>\n",
       "      <td>4.021784</td>\n",
       "      <td>0.023093</td>\n",
       "    </tr>\n",
       "    <tr>\n",
       "      <th>std</th>\n",
       "      <td>4.564890</td>\n",
       "      <td>5.748318</td>\n",
       "      <td>16.180372</td>\n",
       "      <td>1.794460</td>\n",
       "      <td>0.305532</td>\n",
       "    </tr>\n",
       "    <tr>\n",
       "      <th>min</th>\n",
       "      <td>0.000000</td>\n",
       "      <td>2.200000</td>\n",
       "      <td>15.000000</td>\n",
       "      <td>0.400000</td>\n",
       "      <td>0.000000</td>\n",
       "    </tr>\n",
       "    <tr>\n",
       "      <th>25%</th>\n",
       "      <td>6.450000</td>\n",
       "      <td>15.475000</td>\n",
       "      <td>33.000000</td>\n",
       "      <td>2.700000</td>\n",
       "      <td>0.000000</td>\n",
       "    </tr>\n",
       "    <tr>\n",
       "      <th>50%</th>\n",
       "      <td>8.400000</td>\n",
       "      <td>19.300000</td>\n",
       "      <td>42.000000</td>\n",
       "      <td>4.000000</td>\n",
       "      <td>0.000000</td>\n",
       "    </tr>\n",
       "    <tr>\n",
       "      <th>75%</th>\n",
       "      <td>10.750000</td>\n",
       "      <td>22.725000</td>\n",
       "      <td>53.500000</td>\n",
       "      <td>4.900000</td>\n",
       "      <td>0.000000</td>\n",
       "    </tr>\n",
       "    <tr>\n",
       "      <th>max</th>\n",
       "      <td>56.100000</td>\n",
       "      <td>33.300000</td>\n",
       "      <td>100.000000</td>\n",
       "      <td>9.400000</td>\n",
       "      <td>6.400000</td>\n",
       "    </tr>\n",
       "  </tbody>\n",
       "</table>\n",
       "</div>"
      ],
      "text/plain": [
       "              ISI        temp          RH        wind        rain\n",
       "count  515.000000  496.000000  487.000000  482.000000  485.000000\n",
       "mean     9.018835   18.884677   44.381930    4.021784    0.023093\n",
       "std      4.564890    5.748318   16.180372    1.794460    0.305532\n",
       "min      0.000000    2.200000   15.000000    0.400000    0.000000\n",
       "25%      6.450000   15.475000   33.000000    2.700000    0.000000\n",
       "50%      8.400000   19.300000   42.000000    4.000000    0.000000\n",
       "75%     10.750000   22.725000   53.500000    4.900000    0.000000\n",
       "max     56.100000   33.300000  100.000000    9.400000    6.400000"
      ]
     },
     "execution_count": 12,
     "metadata": {},
     "output_type": "execute_result"
    }
   ],
   "source": [
    "fires[['ISI', 'temp', 'RH', 'wind', 'rain']].describe()"
   ]
  },
  {
   "cell_type": "markdown",
   "id": "fb855e92-943d-42fe-901a-7c6dcc074b3c",
   "metadata": {},
   "source": [
    "##### Handing missing values in the remaining columns\n",
    "The percentile distribution of the data in the remaining columns indicated no anomalies in the data except for rain column which has a suspicous value of max 6.4. I will check this row and the values surrounding the row. It may well be that the value is correct but I may have to drop it from the data as it may skew the rest of the data."
   ]
  },
  {
   "cell_type": "code",
   "execution_count": 13,
   "id": "3dcf8ff8-f4bf-4fb2-a8f0-8966736ab9c8",
   "metadata": {},
   "outputs": [
    {
     "data": {
      "text/html": [
       "<div>\n",
       "<style scoped>\n",
       "    .dataframe tbody tr th:only-of-type {\n",
       "        vertical-align: middle;\n",
       "    }\n",
       "\n",
       "    .dataframe tbody tr th {\n",
       "        vertical-align: top;\n",
       "    }\n",
       "\n",
       "    .dataframe thead th {\n",
       "        text-align: right;\n",
       "    }\n",
       "</style>\n",
       "<table border=\"1\" class=\"dataframe\">\n",
       "  <thead>\n",
       "    <tr style=\"text-align: right;\">\n",
       "      <th></th>\n",
       "      <th>Unnamed: 0</th>\n",
       "      <th>X</th>\n",
       "      <th>Y</th>\n",
       "      <th>month_1_jan</th>\n",
       "      <th>day_1_mon</th>\n",
       "      <th>ISI</th>\n",
       "      <th>temp</th>\n",
       "      <th>RH</th>\n",
       "      <th>wind</th>\n",
       "      <th>rain</th>\n",
       "      <th>area</th>\n",
       "      <th>FFMC</th>\n",
       "      <th>DMC</th>\n",
       "      <th>DC</th>\n",
       "    </tr>\n",
       "  </thead>\n",
       "  <tbody>\n",
       "    <tr>\n",
       "      <th>499</th>\n",
       "      <td>500</td>\n",
       "      <td>7</td>\n",
       "      <td>5</td>\n",
       "      <td>8</td>\n",
       "      <td>2</td>\n",
       "      <td>14.3</td>\n",
       "      <td>27.3</td>\n",
       "      <td>63.0</td>\n",
       "      <td>4.9</td>\n",
       "      <td>6.4</td>\n",
       "      <td>10.82</td>\n",
       "      <td>90.580384</td>\n",
       "      <td>181.1</td>\n",
       "      <td>671.2</td>\n",
       "    </tr>\n",
       "  </tbody>\n",
       "</table>\n",
       "</div>"
      ],
      "text/plain": [
       "     Unnamed: 0  X  Y  month_1_jan  day_1_mon   ISI  temp    RH  wind  rain  \\\n",
       "499         500  7  5            8          2  14.3  27.3  63.0   4.9   6.4   \n",
       "\n",
       "      area       FFMC    DMC     DC  \n",
       "499  10.82  90.580384  181.1  671.2  "
      ]
     },
     "execution_count": 13,
     "metadata": {},
     "output_type": "execute_result"
    }
   ],
   "source": [
    "fires.loc[fires['rain']== 6.4]"
   ]
  },
  {
   "cell_type": "code",
   "execution_count": 14,
   "id": "8c7e2261-1a52-484b-a1d1-e13991030b75",
   "metadata": {},
   "outputs": [
    {
     "data": {
      "text/html": [
       "<div>\n",
       "<style scoped>\n",
       "    .dataframe tbody tr th:only-of-type {\n",
       "        vertical-align: middle;\n",
       "    }\n",
       "\n",
       "    .dataframe tbody tr th {\n",
       "        vertical-align: top;\n",
       "    }\n",
       "\n",
       "    .dataframe thead th {\n",
       "        text-align: right;\n",
       "    }\n",
       "</style>\n",
       "<table border=\"1\" class=\"dataframe\">\n",
       "  <thead>\n",
       "    <tr style=\"text-align: right;\">\n",
       "      <th></th>\n",
       "      <th>Unnamed: 0</th>\n",
       "      <th>X</th>\n",
       "      <th>Y</th>\n",
       "      <th>month_1_jan</th>\n",
       "      <th>day_1_mon</th>\n",
       "      <th>ISI</th>\n",
       "      <th>temp</th>\n",
       "      <th>RH</th>\n",
       "      <th>wind</th>\n",
       "      <th>rain</th>\n",
       "      <th>area</th>\n",
       "      <th>FFMC</th>\n",
       "      <th>DMC</th>\n",
       "      <th>DC</th>\n",
       "    </tr>\n",
       "  </thead>\n",
       "  <tbody>\n",
       "    <tr>\n",
       "      <th>496</th>\n",
       "      <td>497</td>\n",
       "      <td>4</td>\n",
       "      <td>5</td>\n",
       "      <td>8</td>\n",
       "      <td>1</td>\n",
       "      <td>16.8</td>\n",
       "      <td>32.6</td>\n",
       "      <td>26.0</td>\n",
       "      <td>3.1</td>\n",
       "      <td>0.0</td>\n",
       "      <td>2.77</td>\n",
       "      <td>96.200000</td>\n",
       "      <td>175.5</td>\n",
       "      <td>661.8</td>\n",
       "    </tr>\n",
       "    <tr>\n",
       "      <th>497</th>\n",
       "      <td>498</td>\n",
       "      <td>3</td>\n",
       "      <td>4</td>\n",
       "      <td>8</td>\n",
       "      <td>2</td>\n",
       "      <td>14.3</td>\n",
       "      <td>32.3</td>\n",
       "      <td>27.0</td>\n",
       "      <td>2.2</td>\n",
       "      <td>0.0</td>\n",
       "      <td>14.68</td>\n",
       "      <td>96.100000</td>\n",
       "      <td>181.1</td>\n",
       "      <td>671.2</td>\n",
       "    </tr>\n",
       "    <tr>\n",
       "      <th>498</th>\n",
       "      <td>499</td>\n",
       "      <td>6</td>\n",
       "      <td>5</td>\n",
       "      <td>8</td>\n",
       "      <td>2</td>\n",
       "      <td>14.3</td>\n",
       "      <td>33.3</td>\n",
       "      <td>NaN</td>\n",
       "      <td>2.7</td>\n",
       "      <td>0.0</td>\n",
       "      <td>40.54</td>\n",
       "      <td>96.100000</td>\n",
       "      <td>181.1</td>\n",
       "      <td>671.2</td>\n",
       "    </tr>\n",
       "    <tr>\n",
       "      <th>499</th>\n",
       "      <td>500</td>\n",
       "      <td>7</td>\n",
       "      <td>5</td>\n",
       "      <td>8</td>\n",
       "      <td>2</td>\n",
       "      <td>14.3</td>\n",
       "      <td>27.3</td>\n",
       "      <td>63.0</td>\n",
       "      <td>4.9</td>\n",
       "      <td>6.4</td>\n",
       "      <td>10.82</td>\n",
       "      <td>90.580384</td>\n",
       "      <td>181.1</td>\n",
       "      <td>671.2</td>\n",
       "    </tr>\n",
       "    <tr>\n",
       "      <th>500</th>\n",
       "      <td>501</td>\n",
       "      <td>8</td>\n",
       "      <td>6</td>\n",
       "      <td>8</td>\n",
       "      <td>2</td>\n",
       "      <td>14.3</td>\n",
       "      <td>21.6</td>\n",
       "      <td>65.0</td>\n",
       "      <td>4.9</td>\n",
       "      <td>0.8</td>\n",
       "      <td>0.00</td>\n",
       "      <td>96.100000</td>\n",
       "      <td>181.1</td>\n",
       "      <td>671.2</td>\n",
       "    </tr>\n",
       "    <tr>\n",
       "      <th>501</th>\n",
       "      <td>502</td>\n",
       "      <td>7</td>\n",
       "      <td>5</td>\n",
       "      <td>8</td>\n",
       "      <td>2</td>\n",
       "      <td>14.3</td>\n",
       "      <td>21.6</td>\n",
       "      <td>65.0</td>\n",
       "      <td>4.9</td>\n",
       "      <td>0.8</td>\n",
       "      <td>0.00</td>\n",
       "      <td>96.100000</td>\n",
       "      <td>181.1</td>\n",
       "      <td>671.2</td>\n",
       "    </tr>\n",
       "    <tr>\n",
       "      <th>502</th>\n",
       "      <td>503</td>\n",
       "      <td>4</td>\n",
       "      <td>4</td>\n",
       "      <td>8</td>\n",
       "      <td>2</td>\n",
       "      <td>14.3</td>\n",
       "      <td>20.7</td>\n",
       "      <td>69.0</td>\n",
       "      <td>4.9</td>\n",
       "      <td>0.4</td>\n",
       "      <td>0.00</td>\n",
       "      <td>96.100000</td>\n",
       "      <td>181.1</td>\n",
       "      <td>671.2</td>\n",
       "    </tr>\n",
       "    <tr>\n",
       "      <th>503</th>\n",
       "      <td>504</td>\n",
       "      <td>2</td>\n",
       "      <td>4</td>\n",
       "      <td>8</td>\n",
       "      <td>3</td>\n",
       "      <td>20.0</td>\n",
       "      <td>29.2</td>\n",
       "      <td>30.0</td>\n",
       "      <td>4.9</td>\n",
       "      <td>NaN</td>\n",
       "      <td>1.95</td>\n",
       "      <td>94.500000</td>\n",
       "      <td>139.4</td>\n",
       "      <td>689.1</td>\n",
       "    </tr>\n",
       "  </tbody>\n",
       "</table>\n",
       "</div>"
      ],
      "text/plain": [
       "     Unnamed: 0  X  Y  month_1_jan  day_1_mon   ISI  temp    RH  wind  rain  \\\n",
       "496         497  4  5            8          1  16.8  32.6  26.0   3.1   0.0   \n",
       "497         498  3  4            8          2  14.3  32.3  27.0   2.2   0.0   \n",
       "498         499  6  5            8          2  14.3  33.3   NaN   2.7   0.0   \n",
       "499         500  7  5            8          2  14.3  27.3  63.0   4.9   6.4   \n",
       "500         501  8  6            8          2  14.3  21.6  65.0   4.9   0.8   \n",
       "501         502  7  5            8          2  14.3  21.6  65.0   4.9   0.8   \n",
       "502         503  4  4            8          2  14.3  20.7  69.0   4.9   0.4   \n",
       "503         504  2  4            8          3  20.0  29.2  30.0   4.9   NaN   \n",
       "\n",
       "      area       FFMC    DMC     DC  \n",
       "496   2.77  96.200000  175.5  661.8  \n",
       "497  14.68  96.100000  181.1  671.2  \n",
       "498  40.54  96.100000  181.1  671.2  \n",
       "499  10.82  90.580384  181.1  671.2  \n",
       "500   0.00  96.100000  181.1  671.2  \n",
       "501   0.00  96.100000  181.1  671.2  \n",
       "502   0.00  96.100000  181.1  671.2  \n",
       "503   1.95  94.500000  139.4  689.1  "
      ]
     },
     "execution_count": 14,
     "metadata": {},
     "output_type": "execute_result"
    }
   ],
   "source": [
    "fires.iloc[496:504]"
   ]
  },
  {
   "cell_type": "markdown",
   "id": "561c36b1-39cb-4977-9b44-bf8c6e8acf1d",
   "metadata": {},
   "source": [
    "the number is an outlier compared to the values around it. if you look closely from index 499 to 501, you will observe that all the columns have nearly the same values meaning that the no drastic changes in fire weather index system though this is not entirely impossible to happen. Therefore I have chosen to update this row with the 0.8 value as in the other rows"
   ]
  },
  {
   "cell_type": "code",
   "execution_count": 15,
   "id": "6b8efc42-6ca3-4e8f-8e1d-388181f45743",
   "metadata": {},
   "outputs": [
    {
     "data": {
      "image/png": "[encoded data removed]",
      "text/plain": [
       "<Figure size 600x400 with 1 Axes>"
      ]
     },
     "metadata": {},
     "output_type": "display_data"
    }
   ],
   "source": [
    "plt.figure(figsize=(6, 4))\n",
    "fires.boxplot(column=['ISI', 'temp', 'RH', 'wind', 'rain'])\n",
    "plt.title('Box plot of columns')\n",
    "plt.show()"
   ]
  },
  {
   "cell_type": "code",
   "execution_count": 16,
   "id": "14f395e1-f061-496e-a746-d370279a1850",
   "metadata": {},
   "outputs": [
    {
     "data": {
      "image/png": "[encoded data removed]",
      "text/plain": [
       "<Figure size 400x300 with 1 Axes>"
      ]
     },
     "metadata": {},
     "output_type": "display_data"
    }
   ],
   "source": [
    "plt.figure(figsize=(4, 3))\n",
    "fires.boxplot(column=['rain'])\n",
    "plt.title('Box plot of rain')\n",
    "plt.show()"
   ]
  },
  {
   "cell_type": "code",
   "execution_count": 17,
   "id": "b4f1f65e-72e1-4939-a8f3-00769f46a97f",
   "metadata": {},
   "outputs": [
    {
     "data": {
      "text/html": [
       "<div>\n",
       "<style scoped>\n",
       "    .dataframe tbody tr th:only-of-type {\n",
       "        vertical-align: middle;\n",
       "    }\n",
       "\n",
       "    .dataframe tbody tr th {\n",
       "        vertical-align: top;\n",
       "    }\n",
       "\n",
       "    .dataframe thead th {\n",
       "        text-align: right;\n",
       "    }\n",
       "</style>\n",
       "<table border=\"1\" class=\"dataframe\">\n",
       "  <thead>\n",
       "    <tr style=\"text-align: right;\">\n",
       "      <th></th>\n",
       "      <th>Unnamed: 0</th>\n",
       "      <th>X</th>\n",
       "      <th>Y</th>\n",
       "      <th>month_1_jan</th>\n",
       "      <th>day_1_mon</th>\n",
       "      <th>ISI</th>\n",
       "      <th>temp</th>\n",
       "      <th>RH</th>\n",
       "      <th>wind</th>\n",
       "      <th>rain</th>\n",
       "      <th>area</th>\n",
       "      <th>FFMC</th>\n",
       "      <th>DMC</th>\n",
       "      <th>DC</th>\n",
       "    </tr>\n",
       "  </thead>\n",
       "  <tbody>\n",
       "    <tr>\n",
       "      <th>22</th>\n",
       "      <td>23</td>\n",
       "      <td>7</td>\n",
       "      <td>4</td>\n",
       "      <td>6</td>\n",
       "      <td>7</td>\n",
       "      <td>56.1</td>\n",
       "      <td>21.0</td>\n",
       "      <td>44.0</td>\n",
       "      <td>4.5</td>\n",
       "      <td>0.0</td>\n",
       "      <td>0.0</td>\n",
       "      <td>94.3</td>\n",
       "      <td>96.3</td>\n",
       "      <td>200.0</td>\n",
       "    </tr>\n",
       "  </tbody>\n",
       "</table>\n",
       "</div>"
      ],
      "text/plain": [
       "    Unnamed: 0  X  Y  month_1_jan  day_1_mon   ISI  temp    RH  wind  rain  \\\n",
       "22          23  7  4            6          7  56.1  21.0  44.0   4.5   0.0   \n",
       "\n",
       "    area  FFMC   DMC     DC  \n",
       "22   0.0  94.3  96.3  200.0  "
      ]
     },
     "execution_count": 17,
     "metadata": {},
     "output_type": "execute_result"
    }
   ],
   "source": [
    "# Investigating the biggest oulier value in ISI column\n",
    "fires.loc[fires['ISI']>40]"
   ]
  },
  {
   "cell_type": "code",
   "execution_count": 18,
   "id": "89984510-d9f4-425f-b419-808280049c33",
   "metadata": {},
   "outputs": [
    {
     "data": {
      "text/html": [
       "<div>\n",
       "<style scoped>\n",
       "    .dataframe tbody tr th:only-of-type {\n",
       "        vertical-align: middle;\n",
       "    }\n",
       "\n",
       "    .dataframe tbody tr th {\n",
       "        vertical-align: top;\n",
       "    }\n",
       "\n",
       "    .dataframe thead th {\n",
       "        text-align: right;\n",
       "    }\n",
       "</style>\n",
       "<table border=\"1\" class=\"dataframe\">\n",
       "  <thead>\n",
       "    <tr style=\"text-align: right;\">\n",
       "      <th></th>\n",
       "      <th>Unnamed: 0</th>\n",
       "      <th>X</th>\n",
       "      <th>Y</th>\n",
       "      <th>month_1_jan</th>\n",
       "      <th>day_1_mon</th>\n",
       "      <th>ISI</th>\n",
       "      <th>temp</th>\n",
       "      <th>RH</th>\n",
       "      <th>wind</th>\n",
       "      <th>rain</th>\n",
       "      <th>area</th>\n",
       "      <th>FFMC</th>\n",
       "      <th>DMC</th>\n",
       "      <th>DC</th>\n",
       "    </tr>\n",
       "  </thead>\n",
       "  <tbody>\n",
       "    <tr>\n",
       "      <th>18</th>\n",
       "      <td>19</td>\n",
       "      <td>6</td>\n",
       "      <td>4</td>\n",
       "      <td>3</td>\n",
       "      <td>3</td>\n",
       "      <td>6.3</td>\n",
       "      <td>15.9</td>\n",
       "      <td>35.0</td>\n",
       "      <td>4.0</td>\n",
       "      <td>0.0</td>\n",
       "      <td>0.0</td>\n",
       "      <td>89.2</td>\n",
       "      <td>111.195363</td>\n",
       "      <td>70.800000</td>\n",
       "    </tr>\n",
       "    <tr>\n",
       "      <th>19</th>\n",
       "      <td>20</td>\n",
       "      <td>6</td>\n",
       "      <td>4</td>\n",
       "      <td>4</td>\n",
       "      <td>6</td>\n",
       "      <td>5.1</td>\n",
       "      <td>9.3</td>\n",
       "      <td>44.0</td>\n",
       "      <td>4.5</td>\n",
       "      <td>0.0</td>\n",
       "      <td>0.0</td>\n",
       "      <td>86.3</td>\n",
       "      <td>27.400000</td>\n",
       "      <td>97.100000</td>\n",
       "    </tr>\n",
       "    <tr>\n",
       "      <th>20</th>\n",
       "      <td>21</td>\n",
       "      <td>6</td>\n",
       "      <td>4</td>\n",
       "      <td>9</td>\n",
       "      <td>2</td>\n",
       "      <td>7.0</td>\n",
       "      <td>18.3</td>\n",
       "      <td>40.0</td>\n",
       "      <td>2.7</td>\n",
       "      <td>NaN</td>\n",
       "      <td>0.0</td>\n",
       "      <td>91.0</td>\n",
       "      <td>129.500000</td>\n",
       "      <td>692.600000</td>\n",
       "    </tr>\n",
       "    <tr>\n",
       "      <th>21</th>\n",
       "      <td>22</td>\n",
       "      <td>5</td>\n",
       "      <td>4</td>\n",
       "      <td>9</td>\n",
       "      <td>1</td>\n",
       "      <td>9.2</td>\n",
       "      <td>19.1</td>\n",
       "      <td>38.0</td>\n",
       "      <td>2.7</td>\n",
       "      <td>0.0</td>\n",
       "      <td>0.0</td>\n",
       "      <td>91.8</td>\n",
       "      <td>78.500000</td>\n",
       "      <td>724.300000</td>\n",
       "    </tr>\n",
       "    <tr>\n",
       "      <th>22</th>\n",
       "      <td>23</td>\n",
       "      <td>7</td>\n",
       "      <td>4</td>\n",
       "      <td>6</td>\n",
       "      <td>7</td>\n",
       "      <td>56.1</td>\n",
       "      <td>21.0</td>\n",
       "      <td>44.0</td>\n",
       "      <td>4.5</td>\n",
       "      <td>0.0</td>\n",
       "      <td>0.0</td>\n",
       "      <td>94.3</td>\n",
       "      <td>96.300000</td>\n",
       "      <td>200.000000</td>\n",
       "    </tr>\n",
       "    <tr>\n",
       "      <th>23</th>\n",
       "      <td>24</td>\n",
       "      <td>7</td>\n",
       "      <td>4</td>\n",
       "      <td>8</td>\n",
       "      <td>6</td>\n",
       "      <td>6.2</td>\n",
       "      <td>19.5</td>\n",
       "      <td>43.0</td>\n",
       "      <td>5.8</td>\n",
       "      <td>0.0</td>\n",
       "      <td>0.0</td>\n",
       "      <td>90.2</td>\n",
       "      <td>110.900000</td>\n",
       "      <td>550.673418</td>\n",
       "    </tr>\n",
       "    <tr>\n",
       "      <th>24</th>\n",
       "      <td>25</td>\n",
       "      <td>7</td>\n",
       "      <td>4</td>\n",
       "      <td>8</td>\n",
       "      <td>6</td>\n",
       "      <td>20.3</td>\n",
       "      <td>23.7</td>\n",
       "      <td>32.0</td>\n",
       "      <td>5.8</td>\n",
       "      <td>0.0</td>\n",
       "      <td>0.0</td>\n",
       "      <td>93.5</td>\n",
       "      <td>139.400000</td>\n",
       "      <td>594.200000</td>\n",
       "    </tr>\n",
       "  </tbody>\n",
       "</table>\n",
       "</div>"
      ],
      "text/plain": [
       "    Unnamed: 0  X  Y  month_1_jan  day_1_mon   ISI  temp    RH  wind  rain  \\\n",
       "18          19  6  4            3          3   6.3  15.9  35.0   4.0   0.0   \n",
       "19          20  6  4            4          6   5.1   9.3  44.0   4.5   0.0   \n",
       "20          21  6  4            9          2   7.0  18.3  40.0   2.7   NaN   \n",
       "21          22  5  4            9          1   9.2  19.1  38.0   2.7   0.0   \n",
       "22          23  7  4            6          7  56.1  21.0  44.0   4.5   0.0   \n",
       "23          24  7  4            8          6   6.2  19.5  43.0   5.8   0.0   \n",
       "24          25  7  4            8          6  20.3  23.7  32.0   5.8   0.0   \n",
       "\n",
       "    area  FFMC         DMC          DC  \n",
       "18   0.0  89.2  111.195363   70.800000  \n",
       "19   0.0  86.3   27.400000   97.100000  \n",
       "20   0.0  91.0  129.500000  692.600000  \n",
       "21   0.0  91.8   78.500000  724.300000  \n",
       "22   0.0  94.3   96.300000  200.000000  \n",
       "23   0.0  90.2  110.900000  550.673418  \n",
       "24   0.0  93.5  139.400000  594.200000  "
      ]
     },
     "execution_count": 18,
     "metadata": {},
     "output_type": "execute_result"
    }
   ],
   "source": [
    "fires.iloc[18:25]"
   ]
  },
  {
   "cell_type": "markdown",
   "id": "eba5cc5b-eab1-42d9-a842-8b32f7134d53",
   "metadata": {},
   "source": [
    "ISI is initial spread index, a numerical rating of the expected fire rate of spread considering the impact of wind and fine fuel. Looking at the surrounding rows and their parameters around this ISI outlier in row 22, and applying this definition of ISI, it definitely points out that the value is wrong. If all the surrounding parameters are similar to it and have a much lower ISI, then it is very likely to be entry error. Therefore i will update this column with the mean value"
   ]
  },
  {
   "cell_type": "code",
   "execution_count": 19,
   "id": "197a4b04-f734-4469-a182-3bb5438a543d",
   "metadata": {},
   "outputs": [],
   "source": [
    "fires.loc[22, 'ISI'] = fires['ISI'].mean()\n",
    "fires.loc[499, 'rain'] = fires['rain'].mean()"
   ]
  },
  {
   "cell_type": "code",
   "execution_count": 20,
   "id": "4a2e22fe-f457-4154-8355-a43efc5fe752",
   "metadata": {},
   "outputs": [
    {
     "data": {
      "text/html": [
       "<div>\n",
       "<style scoped>\n",
       "    .dataframe tbody tr th:only-of-type {\n",
       "        vertical-align: middle;\n",
       "    }\n",
       "\n",
       "    .dataframe tbody tr th {\n",
       "        vertical-align: top;\n",
       "    }\n",
       "\n",
       "    .dataframe thead th {\n",
       "        text-align: right;\n",
       "    }\n",
       "</style>\n",
       "<table border=\"1\" class=\"dataframe\">\n",
       "  <thead>\n",
       "    <tr style=\"text-align: right;\">\n",
       "      <th></th>\n",
       "      <th>ISI</th>\n",
       "      <th>temp</th>\n",
       "      <th>RH</th>\n",
       "      <th>wind</th>\n",
       "      <th>rain</th>\n",
       "    </tr>\n",
       "  </thead>\n",
       "  <tbody>\n",
       "    <tr>\n",
       "      <th>count</th>\n",
       "      <td>515.000000</td>\n",
       "      <td>496.000000</td>\n",
       "      <td>487.000000</td>\n",
       "      <td>482.000000</td>\n",
       "      <td>485.000000</td>\n",
       "    </tr>\n",
       "    <tr>\n",
       "      <th>mean</th>\n",
       "      <td>8.927415</td>\n",
       "      <td>18.884677</td>\n",
       "      <td>44.381930</td>\n",
       "      <td>4.021784</td>\n",
       "      <td>0.009945</td>\n",
       "    </tr>\n",
       "    <tr>\n",
       "      <th>std</th>\n",
       "      <td>4.064152</td>\n",
       "      <td>5.748318</td>\n",
       "      <td>16.180372</td>\n",
       "      <td>1.794460</td>\n",
       "      <td>0.095698</td>\n",
       "    </tr>\n",
       "    <tr>\n",
       "      <th>min</th>\n",
       "      <td>0.000000</td>\n",
       "      <td>2.200000</td>\n",
       "      <td>15.000000</td>\n",
       "      <td>0.400000</td>\n",
       "      <td>0.000000</td>\n",
       "    </tr>\n",
       "    <tr>\n",
       "      <th>25%</th>\n",
       "      <td>6.450000</td>\n",
       "      <td>15.475000</td>\n",
       "      <td>33.000000</td>\n",
       "      <td>2.700000</td>\n",
       "      <td>0.000000</td>\n",
       "    </tr>\n",
       "    <tr>\n",
       "      <th>50%</th>\n",
       "      <td>8.400000</td>\n",
       "      <td>19.300000</td>\n",
       "      <td>42.000000</td>\n",
       "      <td>4.000000</td>\n",
       "      <td>0.000000</td>\n",
       "    </tr>\n",
       "    <tr>\n",
       "      <th>75%</th>\n",
       "      <td>10.700000</td>\n",
       "      <td>22.725000</td>\n",
       "      <td>53.500000</td>\n",
       "      <td>4.900000</td>\n",
       "      <td>0.000000</td>\n",
       "    </tr>\n",
       "    <tr>\n",
       "      <th>max</th>\n",
       "      <td>22.700000</td>\n",
       "      <td>33.300000</td>\n",
       "      <td>100.000000</td>\n",
       "      <td>9.400000</td>\n",
       "      <td>1.400000</td>\n",
       "    </tr>\n",
       "  </tbody>\n",
       "</table>\n",
       "</div>"
      ],
      "text/plain": [
       "              ISI        temp          RH        wind        rain\n",
       "count  515.000000  496.000000  487.000000  482.000000  485.000000\n",
       "mean     8.927415   18.884677   44.381930    4.021784    0.009945\n",
       "std      4.064152    5.748318   16.180372    1.794460    0.095698\n",
       "min      0.000000    2.200000   15.000000    0.400000    0.000000\n",
       "25%      6.450000   15.475000   33.000000    2.700000    0.000000\n",
       "50%      8.400000   19.300000   42.000000    4.000000    0.000000\n",
       "75%     10.700000   22.725000   53.500000    4.900000    0.000000\n",
       "max     22.700000   33.300000  100.000000    9.400000    1.400000"
      ]
     },
     "execution_count": 20,
     "metadata": {},
     "output_type": "execute_result"
    }
   ],
   "source": [
    "fires[['ISI', 'temp', 'RH', 'wind', 'rain']].describe()"
   ]
  },
  {
   "cell_type": "markdown",
   "id": "7287fc30-689b-4be1-a40c-dbc247bac59c",
   "metadata": {},
   "source": [
    "The rest of the missing data in the column will be updated using the nearest neighbors "
   ]
  },
  {
   "cell_type": "code",
   "execution_count": 21,
   "id": "2c3c7eeb-9dde-4239-ae9f-acc9c0fe9c2b",
   "metadata": {},
   "outputs": [
    {
     "name": "stdout",
     "output_type": "stream",
     "text": [
      "<class 'pandas.core.frame.DataFrame'>\n",
      "RangeIndex: 517 entries, 0 to 516\n",
      "Data columns (total 14 columns):\n",
      " #   Column       Non-Null Count  Dtype  \n",
      "---  ------       --------------  -----  \n",
      " 0   Unnamed: 0   517 non-null    float64\n",
      " 1   X            517 non-null    float64\n",
      " 2   Y            517 non-null    float64\n",
      " 3   month_1_jan  517 non-null    float64\n",
      " 4   day_1_mon    517 non-null    float64\n",
      " 5   ISI          517 non-null    float64\n",
      " 6   temp         517 non-null    float64\n",
      " 7   RH           517 non-null    float64\n",
      " 8   wind         517 non-null    float64\n",
      " 9   rain         517 non-null    float64\n",
      " 10  area         517 non-null    float64\n",
      " 11  FFMC         517 non-null    float64\n",
      " 12  DMC          517 non-null    float64\n",
      " 13  DC           517 non-null    float64\n",
      "dtypes: float64(14)\n",
      "memory usage: 56.7 KB\n"
     ]
    }
   ],
   "source": [
    "from sklearn.impute import KNNImputer \n",
    "\n",
    "imputer = KNNImputer(missing_values=np.nan, n_neighbors=4, weights='distance')\n",
    "updated_fires = pd.DataFrame(imputer.fit_transform(fires), columns=fires.columns)\n",
    "updated_fires.info()"
   ]
  },
  {
   "cell_type": "markdown",
   "id": "ba1ef642-e110-4c3b-9d97-b38c2d462e36",
   "metadata": {},
   "source": [
    "finally, I will be removing the Unnamed column, X and Y as this does not add any further information to the data or do not contribute to the data modelling"
   ]
  },
  {
   "cell_type": "code",
   "execution_count": 22,
   "id": "3062a63f-30c8-4ba4-88f1-d18dd89a78d1",
   "metadata": {},
   "outputs": [
    {
     "data": {
      "text/plain": [
       "Index(['month_1_jan', 'day_1_mon', 'ISI', 'temp', 'RH', 'wind', 'rain', 'area',\n",
       "       'FFMC', 'DMC', 'DC'],\n",
       "      dtype='object')"
      ]
     },
     "execution_count": 22,
     "metadata": {},
     "output_type": "execute_result"
    }
   ],
   "source": [
    "fires_clean = updated_fires.drop(['Unnamed: 0', 'X', 'Y'], axis = 1)\n",
    "fires_clean.columns"
   ]
  },
  {
   "cell_type": "markdown",
   "id": "8ee7e2a6-5a83-4809-9049-218d6480ad2b",
   "metadata": {},
   "source": [
    "#### Data Visualisations\n",
    "By visualisations I can decide what features are important for the model and the outcome, and whether any of the features need transformed"
   ]
  },
  {
   "cell_type": "code",
   "execution_count": 23,
   "id": "2eeee463-1ffa-4bf3-b591-fcb1737de349",
   "metadata": {},
   "outputs": [
    {
     "data": {
      "image/png": "[encoded data removed]",
      "text/plain": [
       "<Figure size 1200x1000 with 9 Axes>"
      ]
     },
     "metadata": {},
     "output_type": "display_data"
    }
   ],
   "source": [
    "import seaborn as sns\n",
    "\n",
    "col_list = ['area', 'ISI', 'temp', 'RH', 'wind', 'rain', 'FFMC', 'DMC', 'DC']\n",
    "\n",
    "plt.figure(figsize=[12,10])\n",
    "\n",
    "for idx, item in enumerate(col_list):\n",
    "    ax = plt.subplot(3, 3, idx+1)\n",
    "    sns.histplot(data = fires_clean, x=item, ax=ax)\n",
    "plt.show()"
   ]
  },
  {
   "cell_type": "markdown",
   "id": "0957ae4c-6849-4007-82c5-746a5c304dfb",
   "metadata": {},
   "source": [
    "The features distributions varied from normal distribution and skewed distributions. The outcome(area) is skewed to the right as well. I will therefore standardize these features and transform the area column to log in order to get a uniform distribution of the data.    \n",
    "I intend to model the data using **`linear regression model`**"
   ]
  },
  {
   "cell_type": "code",
   "execution_count": 24,
   "id": "7cdc9dba-8691-4ea6-bf77-9bd1cbec1fcf",
   "metadata": {},
   "outputs": [
    {
     "data": {
      "image/png": "[encoded data removed]",
      "text/plain": [
       "<Figure size 600x500 with 1 Axes>"
      ]
     },
     "metadata": {},
     "output_type": "display_data"
    }
   ],
   "source": [
    "plt.rcParams['figure.figsize']=[6, 5]\n",
    "plt.title('Scatterplot of area by month by day')\n",
    "sns.scatterplot(data=fires_clean, x='month_1_jan', y='area', hue='day_1_mon', palette='husl')\n",
    "plt.xlabel('month')\n",
    "plt.legend(title='day')\n",
    "plt.show()"
   ]
  },
  {
   "cell_type": "markdown",
   "id": "e51acd38-e798-48b5-ac0b-8d50ea591bfe",
   "metadata": {},
   "source": [
    "The highest areas covered by the fire occured between the months of July and Sept. The fire area from July started going as high as 300 and up to >1000 by September.  This may be the result of major fire incident or simply because these are expectly the hotest season of the year. "
   ]
  },
  {
   "cell_type": "code",
   "execution_count": 25,
   "id": "636b60a4-bc29-498b-b165-2ce35dc99611",
   "metadata": {},
   "outputs": [
    {
     "data": {
      "text/html": [
       "<div>\n",
       "<style scoped>\n",
       "    .dataframe tbody tr th:only-of-type {\n",
       "        vertical-align: middle;\n",
       "    }\n",
       "\n",
       "    .dataframe tbody tr th {\n",
       "        vertical-align: top;\n",
       "    }\n",
       "\n",
       "    .dataframe thead th {\n",
       "        text-align: right;\n",
       "    }\n",
       "</style>\n",
       "<table border=\"1\" class=\"dataframe\">\n",
       "  <thead>\n",
       "    <tr style=\"text-align: right;\">\n",
       "      <th></th>\n",
       "      <th>month_1_jan</th>\n",
       "      <th>day_1_mon</th>\n",
       "      <th>ISI</th>\n",
       "      <th>temp</th>\n",
       "      <th>RH</th>\n",
       "      <th>wind</th>\n",
       "      <th>rain</th>\n",
       "      <th>area</th>\n",
       "      <th>FFMC</th>\n",
       "      <th>DMC</th>\n",
       "      <th>DC</th>\n",
       "      <th>area_log</th>\n",
       "    </tr>\n",
       "  </thead>\n",
       "  <tbody>\n",
       "    <tr>\n",
       "      <th>month_1_jan</th>\n",
       "      <td>1.000000</td>\n",
       "      <td>-0.050837</td>\n",
       "      <td>0.224435</td>\n",
       "      <td>0.366335</td>\n",
       "      <td>-0.111055</td>\n",
       "      <td>-0.087918</td>\n",
       "      <td>0.012198</td>\n",
       "      <td>0.056496</td>\n",
       "      <td>0.286677</td>\n",
       "      <td>0.474769</td>\n",
       "      <td>0.812273</td>\n",
       "      <td>0.114280</td>\n",
       "    </tr>\n",
       "    <tr>\n",
       "      <th>day_1_mon</th>\n",
       "      <td>-0.050837</td>\n",
       "      <td>1.000000</td>\n",
       "      <td>0.006475</td>\n",
       "      <td>0.051608</td>\n",
       "      <td>0.100776</td>\n",
       "      <td>0.043691</td>\n",
       "      <td>-0.009038</td>\n",
       "      <td>0.023226</td>\n",
       "      <td>-0.037379</td>\n",
       "      <td>0.055906</td>\n",
       "      <td>0.016280</td>\n",
       "      <td>0.000208</td>\n",
       "    </tr>\n",
       "    <tr>\n",
       "      <th>ISI</th>\n",
       "      <td>0.224435</td>\n",
       "      <td>0.006475</td>\n",
       "      <td>1.000000</td>\n",
       "      <td>0.432298</td>\n",
       "      <td>-0.145528</td>\n",
       "      <td>0.102661</td>\n",
       "      <td>0.071547</td>\n",
       "      <td>0.013788</td>\n",
       "      <td>0.538286</td>\n",
       "      <td>0.332557</td>\n",
       "      <td>0.286948</td>\n",
       "      <td>0.006429</td>\n",
       "    </tr>\n",
       "    <tr>\n",
       "      <th>temp</th>\n",
       "      <td>0.366335</td>\n",
       "      <td>0.051608</td>\n",
       "      <td>0.432298</td>\n",
       "      <td>1.000000</td>\n",
       "      <td>-0.514345</td>\n",
       "      <td>-0.213632</td>\n",
       "      <td>0.029214</td>\n",
       "      <td>0.095775</td>\n",
       "      <td>0.396273</td>\n",
       "      <td>0.443083</td>\n",
       "      <td>0.472386</td>\n",
       "      <td>0.039745</td>\n",
       "    </tr>\n",
       "    <tr>\n",
       "      <th>RH</th>\n",
       "      <td>-0.111055</td>\n",
       "      <td>0.100776</td>\n",
       "      <td>-0.145528</td>\n",
       "      <td>-0.514345</td>\n",
       "      <td>1.000000</td>\n",
       "      <td>0.067123</td>\n",
       "      <td>0.169575</td>\n",
       "      <td>-0.077815</td>\n",
       "      <td>-0.301120</td>\n",
       "      <td>0.073160</td>\n",
       "      <td>-0.063876</td>\n",
       "      <td>-0.051147</td>\n",
       "    </tr>\n",
       "    <tr>\n",
       "      <th>wind</th>\n",
       "      <td>-0.087918</td>\n",
       "      <td>0.043691</td>\n",
       "      <td>0.102661</td>\n",
       "      <td>-0.213632</td>\n",
       "      <td>0.067123</td>\n",
       "      <td>1.000000</td>\n",
       "      <td>0.130992</td>\n",
       "      <td>0.007510</td>\n",
       "      <td>-0.014875</td>\n",
       "      <td>-0.094404</td>\n",
       "      <td>-0.200454</td>\n",
       "      <td>0.064852</td>\n",
       "    </tr>\n",
       "    <tr>\n",
       "      <th>rain</th>\n",
       "      <td>0.012198</td>\n",
       "      <td>-0.009038</td>\n",
       "      <td>0.071547</td>\n",
       "      <td>0.029214</td>\n",
       "      <td>0.169575</td>\n",
       "      <td>0.130992</td>\n",
       "      <td>1.000000</td>\n",
       "      <td>-0.019267</td>\n",
       "      <td>0.050822</td>\n",
       "      <td>0.094062</td>\n",
       "      <td>0.049627</td>\n",
       "      <td>-0.055100</td>\n",
       "    </tr>\n",
       "    <tr>\n",
       "      <th>area</th>\n",
       "      <td>0.056496</td>\n",
       "      <td>0.023226</td>\n",
       "      <td>0.013788</td>\n",
       "      <td>0.095775</td>\n",
       "      <td>-0.077815</td>\n",
       "      <td>0.007510</td>\n",
       "      <td>-0.019267</td>\n",
       "      <td>1.000000</td>\n",
       "      <td>0.042390</td>\n",
       "      <td>0.073614</td>\n",
       "      <td>0.045505</td>\n",
       "      <td>0.524134</td>\n",
       "    </tr>\n",
       "    <tr>\n",
       "      <th>FFMC</th>\n",
       "      <td>0.286677</td>\n",
       "      <td>-0.037379</td>\n",
       "      <td>0.538286</td>\n",
       "      <td>0.396273</td>\n",
       "      <td>-0.301120</td>\n",
       "      <td>-0.014875</td>\n",
       "      <td>0.050822</td>\n",
       "      <td>0.042390</td>\n",
       "      <td>1.000000</td>\n",
       "      <td>0.353621</td>\n",
       "      <td>0.318635</td>\n",
       "      <td>0.048918</td>\n",
       "    </tr>\n",
       "    <tr>\n",
       "      <th>DMC</th>\n",
       "      <td>0.474769</td>\n",
       "      <td>0.055906</td>\n",
       "      <td>0.332557</td>\n",
       "      <td>0.443083</td>\n",
       "      <td>0.073160</td>\n",
       "      <td>-0.094404</td>\n",
       "      <td>0.094062</td>\n",
       "      <td>0.073614</td>\n",
       "      <td>0.353621</td>\n",
       "      <td>1.000000</td>\n",
       "      <td>0.645267</td>\n",
       "      <td>0.070551</td>\n",
       "    </tr>\n",
       "    <tr>\n",
       "      <th>DC</th>\n",
       "      <td>0.812273</td>\n",
       "      <td>0.016280</td>\n",
       "      <td>0.286948</td>\n",
       "      <td>0.472386</td>\n",
       "      <td>-0.063876</td>\n",
       "      <td>-0.200454</td>\n",
       "      <td>0.049627</td>\n",
       "      <td>0.045505</td>\n",
       "      <td>0.318635</td>\n",
       "      <td>0.645267</td>\n",
       "      <td>1.000000</td>\n",
       "      <td>0.063904</td>\n",
       "    </tr>\n",
       "    <tr>\n",
       "      <th>area_log</th>\n",
       "      <td>0.114280</td>\n",
       "      <td>0.000208</td>\n",
       "      <td>0.006429</td>\n",
       "      <td>0.039745</td>\n",
       "      <td>-0.051147</td>\n",
       "      <td>0.064852</td>\n",
       "      <td>-0.055100</td>\n",
       "      <td>0.524134</td>\n",
       "      <td>0.048918</td>\n",
       "      <td>0.070551</td>\n",
       "      <td>0.063904</td>\n",
       "      <td>1.000000</td>\n",
       "    </tr>\n",
       "  </tbody>\n",
       "</table>\n",
       "</div>"
      ],
      "text/plain": [
       "             month_1_jan  day_1_mon       ISI      temp        RH      wind  \\\n",
       "month_1_jan     1.000000  -0.050837  0.224435  0.366335 -0.111055 -0.087918   \n",
       "day_1_mon      -0.050837   1.000000  0.006475  0.051608  0.100776  0.043691   \n",
       "ISI             0.224435   0.006475  1.000000  0.432298 -0.145528  0.102661   \n",
       "temp            0.366335   0.051608  0.432298  1.000000 -0.514345 -0.213632   \n",
       "RH             -0.111055   0.100776 -0.145528 -0.514345  1.000000  0.067123   \n",
       "wind           -0.087918   0.043691  0.102661 -0.213632  0.067123  1.000000   \n",
       "rain            0.012198  -0.009038  0.071547  0.029214  0.169575  0.130992   \n",
       "area            0.056496   0.023226  0.013788  0.095775 -0.077815  0.007510   \n",
       "FFMC            0.286677  -0.037379  0.538286  0.396273 -0.301120 -0.014875   \n",
       "DMC             0.474769   0.055906  0.332557  0.443083  0.073160 -0.094404   \n",
       "DC              0.812273   0.016280  0.286948  0.472386 -0.063876 -0.200454   \n",
       "area_log        0.114280   0.000208  0.006429  0.039745 -0.051147  0.064852   \n",
       "\n",
       "                 rain      area      FFMC       DMC        DC  area_log  \n",
       "month_1_jan  0.012198  0.056496  0.286677  0.474769  0.812273  0.114280  \n",
       "day_1_mon   -0.009038  0.023226 -0.037379  0.055906  0.016280  0.000208  \n",
       "ISI          0.071547  0.013788  0.538286  0.332557  0.286948  0.006429  \n",
       "temp         0.029214  0.095775  0.396273  0.443083  0.472386  0.039745  \n",
       "RH           0.169575 -0.077815 -0.301120  0.073160 -0.063876 -0.051147  \n",
       "wind         0.130992  0.007510 -0.014875 -0.094404 -0.200454  0.064852  \n",
       "rain         1.000000 -0.019267  0.050822  0.094062  0.049627 -0.055100  \n",
       "area        -0.019267  1.000000  0.042390  0.073614  0.045505  0.524134  \n",
       "FFMC         0.050822  0.042390  1.000000  0.353621  0.318635  0.048918  \n",
       "DMC          0.094062  0.073614  0.353621  1.000000  0.645267  0.070551  \n",
       "DC           0.049627  0.045505  0.318635  0.645267  1.000000  0.063904  \n",
       "area_log    -0.055100  0.524134  0.048918  0.070551  0.063904  1.000000  "
      ]
     },
     "execution_count": 25,
     "metadata": {},
     "output_type": "execute_result"
    }
   ],
   "source": [
    "# transforming the area \n",
    "fires_clean['area_log'] = np.log1p(fires_clean['area'])\n",
    "\n",
    "## looking for pearson corr\n",
    "fires_corr = fires_clean.corr()\n",
    "fires_corr"
   ]
  },
  {
   "cell_type": "code",
   "execution_count": 26,
   "id": "b8835614-d634-4c77-b5e3-40e1309a91c9",
   "metadata": {},
   "outputs": [
    {
     "data": {
      "text/plain": [
       "area_log       1.000000\n",
       "area           0.524134\n",
       "month_1_jan    0.114280\n",
       "DMC            0.070551\n",
       "wind           0.064852\n",
       "DC             0.063904\n",
       "rain           0.055100\n",
       "RH             0.051147\n",
       "FFMC           0.048918\n",
       "temp           0.039745\n",
       "ISI            0.006429\n",
       "day_1_mon      0.000208\n",
       "Name: area_log, dtype: float64"
      ]
     },
     "execution_count": 26,
     "metadata": {},
     "output_type": "execute_result"
    }
   ],
   "source": [
    "abs(fires_corr['area_log']).sort_values(ascending=False)"
   ]
  },
  {
   "cell_type": "markdown",
   "id": "7832112d-4b45-481c-bf30-021d50f0418d",
   "metadata": {},
   "source": [
    "There are no strong correlations found between the features and the data. However, by general knowledge, I would like to use temperature (temp) and wind to model the data. But before that I will like to explore other methods of feature selection after standardizing the data."
   ]
  },
  {
   "cell_type": "code",
   "execution_count": 27,
   "id": "a3d7f831-6d09-4d21-9c52-bd4e67827715",
   "metadata": {},
   "outputs": [],
   "source": [
    "from sklearn.preprocessing import StandardScaler\n",
    "\n",
    "##splitting the data\n",
    "X = fires_clean.drop(['area', 'area_log'], axis=1)\n",
    "y = fires_clean['area_log']\n",
    "\n",
    "scaler = StandardScaler()\n",
    "\n",
    "scaled_X = scaler.fit_transform(X)\n"
   ]
  },
  {
   "cell_type": "markdown",
   "id": "f3a0b57d-39f4-4e00-ad32-4152e85cb56f",
   "metadata": {},
   "source": [
    "#### Feature Selections"
   ]
  },
  {
   "cell_type": "code",
   "execution_count": 28,
   "id": "491ab34f-310a-482a-8be3-60e2d8b4a1d3",
   "metadata": {},
   "outputs": [
    {
     "name": "stdout",
     "output_type": "stream",
     "text": [
      "forward features: ['month_1_jan' 'rain' 'FFMC']\n",
      "\n"
     ]
    }
   ],
   "source": [
    "from sklearn.feature_selection import SequentialFeatureSelector\n",
    "from sklearn.linear_model import LinearRegression \n",
    "\n",
    "lm = LinearRegression()\n",
    "\n",
    "forward_select = SequentialFeatureSelector(estimator=lm, n_features_to_select=3, direction = 'forward')\n",
    "forward_select.fit(X, y)\n",
    "\n",
    "forward_features = forward_select.get_feature_names_out()\n",
    "print(f'forward features: {forward_features}\\n')"
   ]
  },
  {
   "cell_type": "code",
   "execution_count": 29,
   "id": "3bc42217-1c8b-4c59-a372-79557848c7d4",
   "metadata": {},
   "outputs": [
    {
     "name": "stdout",
     "output_type": "stream",
     "text": [
      "backward features: ['rain' 'FFMC' 'DC']\n"
     ]
    }
   ],
   "source": [
    "lm2 = LinearRegression()\n",
    "backward_select = SequentialFeatureSelector(estimator=lm2, n_features_to_select=3, direction='backward')\n",
    "backward_select.fit(X, y)\n",
    "\n",
    "backward_features = backward_select.get_feature_names_out()\n",
    "print(f'backward features: {backward_features}')"
   ]
  },
  {
   "cell_type": "markdown",
   "id": "941cc935-6942-4b4b-a227-5b28e98b46ce",
   "metadata": {},
   "source": [
    "The forward and backward selection suggested two common features: rain and FFMC. Therefore I will choose two of these to create a linear modeal and also create another linear model based on my intended features (temp and wind) originally."
   ]
  },
  {
   "cell_type": "markdown",
   "id": "7f0b461a-c72b-4987-92ac-5cfec5229abe",
   "metadata": {},
   "source": [
    "#### Modelling"
   ]
  },
  {
   "cell_type": "code",
   "execution_count": 30,
   "id": "895a2466-65c1-4495-89a3-de656cacb7e5",
   "metadata": {},
   "outputs": [
    {
     "name": "stdout",
     "output_type": "stream",
     "text": [
      "Model1 intercept 1.077723238048192\n",
      "Model1 coefficients [0.06793009 0.11746376]\n",
      "Model1 training mse 1.804085108590117\n",
      "Model1 traininng mse on original scale 5.074411478641914\n"
     ]
    }
   ],
   "source": [
    "from sklearn.model_selection import train_test_split\n",
    "from sklearn.metrics import mean_squared_error\n",
    "\n",
    "X1 = fires_clean[['temp', 'wind']]\n",
    "y = fires_clean['area_log']\n",
    "\n",
    "X1_train, X1_test, y1_train, y1_test = train_test_split(X1, y, test_size=0.2, random_state=20)\n",
    "\n",
    "scaler = StandardScaler() \n",
    "\n",
    "X1_train = scaler.fit_transform(X1_train)\n",
    "X1_test = scaler.transform(X1_test)\n",
    "\n",
    "lm_model1 = LinearRegression()\n",
    "lm_model1.fit(X1_train, y1_train)\n",
    "\n",
    "model1_prediction = lm_model1.predict(X1_test)\n",
    "model1_train_mse = mean_squared_error(y1_train, lm_model1.predict(X1_train))\n",
    "\n",
    "print('Model1 intercept', lm_model1.intercept_)\n",
    "print('Model1 coefficients', lm_model1.coef_)\n",
    "print('Model1 training mse', model1_train_mse)\n",
    "print('Model1 traininng mse on original scale', np.expm1(model1_train_mse))"
   ]
  },
  {
   "cell_type": "code",
   "execution_count": 31,
   "id": "a454b254-2804-4e99-96c2-b075a6c824c5",
   "metadata": {},
   "outputs": [
    {
     "name": "stdout",
     "output_type": "stream",
     "text": [
      "Model2 intercept 1.077723238048192\n",
      "Model2 coefficients [-0.06956144  0.05154229]\n",
      "Model2 training mse 1.8125377301580359\n",
      "Model2 traininng mse on original scale 5.125973791480956\n"
     ]
    }
   ],
   "source": [
    "## Using rain and FFMC as suggested in feature selection\n",
    "lm_model2 = LinearRegression()\n",
    "\n",
    "X2 = fires_clean[['rain', 'FFMC']]\n",
    "y = fires_clean['area_log']\n",
    "\n",
    "X2_train, X2_test, y2_train, y2_test = train_test_split(X2, y, test_size=0.2, random_state=20)\n",
    "\n",
    "X2_train = scaler.fit_transform(X2_train)\n",
    "X2_test = scaler.transform(X2_test)\n",
    "\n",
    "lm_model2.fit(X2_train, y2_train)\n",
    "\n",
    "model2_prediction = lm_model2.predict(X2_test)\n",
    "model2_train_mse = mean_squared_error(y2_train, lm_model2.predict(X2_train))\n",
    "\n",
    "print('Model2 intercept', lm_model2.intercept_)\n",
    "print('Model2 coefficients', lm_model2.coef_)\n",
    "print('Model2 training mse', model2_train_mse)\n",
    "print('Model2 traininng mse on original scale', np.expm1(model2_train_mse))"
   ]
  },
  {
   "cell_type": "markdown",
   "id": "c75ec86d-18dd-4fd3-96da-419a2682d471",
   "metadata": {},
   "source": [
    "#### LASSO modelling"
   ]
  },
  {
   "cell_type": "code",
   "execution_count": 32,
   "id": "c0bae1a3-5645-4d36-bd45-79ff6b022abf",
   "metadata": {},
   "outputs": [
    {
     "name": "stdout",
     "output_type": "stream",
     "text": [
      "Lasso alpha_ 10000.0\n",
      "lasso intercept 1.077723238048192\n",
      "lasso coefficients [ 0.  0. -0.  0. -0.  0. -0.  0.  0.  0.]\n",
      "lasso training mse 1.8125377301580359\n",
      "lasso traininng mse on original scale 5.170054613770913\n"
     ]
    }
   ],
   "source": [
    "from sklearn.linear_model import LassoCV\n",
    "\n",
    "X = fires_clean.drop(['area', 'area_log'], axis=1)\n",
    "y = fires_clean['area_log']\n",
    "\n",
    "X3_train, X3_test, y3_train, y3_test = train_test_split(X, y, test_size=0.2, random_state=20)\n",
    "\n",
    "X3_train = scaler.fit_transform(X3_train)\n",
    "X3_test = scaler.transform(X3_test)\n",
    "\n",
    "lasso = LassoCV(cv=5, n_jobs= -1, alphas=np.linspace(0.1, 10000, num=100), random_state=20)\n",
    "lasso.fit(X3_train, y3_train)\n",
    "lasso_prediction = lasso.predict(X3_test)\n",
    "\n",
    "lasso_train_mse = mean_squared_error(y3_train, lasso.predict(X3_train))\n",
    "\n",
    "print('Lasso alpha_', lasso.alpha_)\n",
    "print('lasso intercept', lasso.intercept_)\n",
    "print('lasso coefficients', lasso.coef_)\n",
    "print('lasso training mse', model2_train_mse)\n",
    "print('lasso traininng mse on original scale', np.expm1(lasso_train_mse))"
   ]
  },
  {
   "cell_type": "code",
   "execution_count": 33,
   "id": "bebada51-9810-40e8-9d76-7201c6f14930",
   "metadata": {},
   "outputs": [
    {
     "data": {
      "text/plain": [
       "Index(['month_1_jan', 'day_1_mon', 'ISI', 'temp', 'RH', 'wind', 'rain', 'FFMC',\n",
       "       'DMC', 'DC'],\n",
       "      dtype='object')"
      ]
     },
     "execution_count": 33,
     "metadata": {},
     "output_type": "execute_result"
    }
   ],
   "source": [
    "X.columns"
   ]
  },
  {
   "cell_type": "markdown",
   "id": "48d74ea6-b555-4b27-87e0-7875870df166",
   "metadata": {},
   "source": [
    "#### Polynomial features\n",
    "between rain and FFMC , i will choose rain for modelling with polynomial instead of using both because of the number of features generated from polynomial which may overfit the linear regression. Also I am using only rain because it has a higher correlation coefficient (0.05) than FFMC (0.04) as seen earlier. "
   ]
  },
  {
   "cell_type": "code",
   "execution_count": 34,
   "id": "1f61b7dc-ec4e-446d-989c-a38406caed8b",
   "metadata": {},
   "outputs": [
    {
     "name": "stdout",
     "output_type": "stream",
     "text": [
      "Model4 intercept 1.0896321120023915\n",
      "Model4 coefficients [ 0.         -4.05003122  2.96190284]\n",
      "Model4 training mse 1.8070451475928309\n",
      "Model4 traininng mse on original scale 5.092418611296767\n"
     ]
    }
   ],
   "source": [
    "from sklearn.preprocessing import PolynomialFeatures \n",
    "\n",
    "X4 = fires_clean[['rain']].values.reshape(-1,1)\n",
    "y4 = fires_clean['area_log']\n",
    "\n",
    "X4_train, X4_test, y4_train, y4_test = train_test_split(X4, y4, test_size=0.2, random_state=20)\n",
    "\n",
    "polynomial = PolynomialFeatures(degree = 2, include_bias=True)\n",
    "X4_train = polynomial.fit_transform(X4_train)\n",
    "X4_test = polynomial.transform(X4_test)\n",
    "\n",
    "lm_model4 = LinearRegression()\n",
    "\n",
    "lm_model4.fit(X4_train, y4_train)\n",
    "model4_prediction = lm_model4.predict(X4_test)\n",
    "\n",
    "model4_train_mse = mean_squared_error(y4_train, lm_model4.predict(X4_train))\n",
    "\n",
    "\n",
    "print('Model4 intercept', lm_model4.intercept_)\n",
    "print('Model4 coefficients', lm_model4.coef_)\n",
    "print('Model4 training mse', model4_train_mse)\n",
    "print('Model4 traininng mse on original scale', np.expm1(model4_train_mse))"
   ]
  },
  {
   "cell_type": "markdown",
   "id": "8a3806ee-23e2-418e-8a47-f4f9c3ab4f25",
   "metadata": {},
   "source": [
    "#### Spline model\n",
    "Finally i will use spline to see if i get a better training results for comparisons"
   ]
  },
  {
   "cell_type": "code",
   "execution_count": 35,
   "id": "1fde941a-2807-4a9c-8868-ba22f474f7b8",
   "metadata": {},
   "outputs": [
    {
     "name": "stdout",
     "output_type": "stream",
     "text": [
      "Model5 intercept 1.0777232380481965\n",
      "Model5 coefficients [ 0.60543313 -0.48005868  0.41080299 -0.29903286 -0.28508663  0.24390427\n",
      " -0.22276007  0.33671252]\n",
      "Model5 training mse 1.7631819903876045\n",
      "Model5 training mse on original scale 4.830961971202581\n"
     ]
    }
   ],
   "source": [
    "from sklearn.preprocessing import SplineTransformer\n",
    "\n",
    "X5 = fires_clean[['temp','wind']]\n",
    "y5 = fires_clean['area_log']\n",
    "\n",
    "X5_train, X5_test, y5_train, y5_test = train_test_split(X5, y5, test_size=0.2, random_state=20)\n",
    "\n",
    "spline = SplineTransformer(n_knots=2)\n",
    "X5_train = spline.fit_transform(X5_train)\n",
    "X5_test = spline.transform(X5_test)\n",
    "\n",
    "X5_train = scaler.fit_transform(X5_train)\n",
    "X5_test = scaler.transform(X5_test)\n",
    "\n",
    "lm_model5 = LinearRegression()\n",
    "lm_model5.fit(X5_train, y5_train)\n",
    "model5_prediction = lm_model5.predict(X5_test)\n",
    "\n",
    "model5_train_mse= mean_squared_error(y5_train, lm_model5.predict(X5_train))\n",
    "\n",
    "print('Model5 intercept', lm_model5.intercept_)\n",
    "print('Model5 coefficients', lm_model5.coef_)\n",
    "print('Model5 training mse', model5_train_mse)\n",
    "print('Model5 training mse on original scale', np.expm1(model5_train_mse))"
   ]
  },
  {
   "cell_type": "markdown",
   "id": "709aa870-8e3b-4e52-9725-a0ff2ec6ad0c",
   "metadata": {},
   "source": [
    "#### K-Fold Cross validation of all the models"
   ]
  },
  {
   "cell_type": "code",
   "execution_count": 36,
   "id": "5a02f9f9-064d-4caf-8dc5-905acb4404d9",
   "metadata": {},
   "outputs": [],
   "source": [
    "## Model 1 cross validation \n",
    "from sklearn.pipeline import Pipeline\n",
    "from sklearn.model_selection import cross_val_score\n",
    "\n",
    "X = fires_clean.drop(['area', 'area_log'], axis=1)\n",
    "y = fires_clean['area_log']\n",
    "\n",
    "pipe = Pipeline([('scaler', StandardScaler()),\n",
    "                 ('model', LinearRegression())\n",
    "                ])\n",
    "\n",
    "score_model1 = cross_val_score(pipe, X[['temp', 'wind']], y, cv=5, scoring='neg_mean_squared_error')\n",
    "score_model2 = cross_val_score(pipe, X[['rain', 'FFMC']], y, cv=5, scoring='neg_mean_squared_error')\n",
    "\n",
    "\n",
    "lasso_pipe = Pipeline([('scaler', StandardScaler()),\n",
    "                       ('model', LassoCV(cv=5, n_jobs= -1, random_state=20))\n",
    "                      ])\n",
    "lasso_score = cross_val_score(lasso_pipe, X, y, cv=5, scoring='neg_mean_squared_error')\n",
    "\n",
    "polynomial_pipe = Pipeline([('polynomial', PolynomialFeatures(degree = 2, include_bias=True)),\n",
    "                            ('model', LinearRegression())\n",
    "                           ])\n",
    "polynomial_score = cross_val_score(polynomial_pipe, X[['rain']].values.reshape(-1,1), y, cv=5, scoring='neg_mean_squared_error')\n",
    "\n",
    "spline_pipe = Pipeline([('spline', SplineTransformer(n_knots=2)),\n",
    "                        ('scaler', StandardScaler()),\n",
    "                        ('model', LinearRegression())\n",
    "                       ])\n",
    "spline_score = cross_val_score(spline_pipe, X[['temp', 'wind']], y, cv=5, scoring='neg_mean_squared_error')\n",
    "\n"
   ]
  },
  {
   "cell_type": "code",
   "execution_count": 37,
   "id": "e14ea333-44e7-4dab-9d04-ea3f5e1c05d6",
   "metadata": {},
   "outputs": [
    {
     "name": "stdout",
     "output_type": "stream",
     "text": [
      "CV score model 1 is      2.2100073831487173   SD    1.0609425019596146\n",
      "CV score model 2 is      2.172393135074311   SD    1.0044920478077999\n",
      "CV score lasso is        2.2527407310153893   SD    1.0330881997504278\n",
      "CV score polynomial is    2.1728726771843916   SD    1.002115388029296\n",
      "CV score spline is       2.1827001259070884   SD    0.9940116061218377\n"
     ]
    }
   ],
   "source": [
    "model1_cv_mse = -score_model1\n",
    "model2_cv_mse = -score_model2\n",
    "lasso_cv_mse = -lasso_score\n",
    "poly_cv_mse = -polynomial_score\n",
    "spline_cv_mse = -spline_score\n",
    "\n",
    "print('CV score model 1 is     ', model1_cv_mse.mean(), '  SD   ', model1_cv_mse.std())\n",
    "print('CV score model 2 is     ', model2_cv_mse.mean(), '  SD   ', model2_cv_mse.std())\n",
    "print('CV score lasso is       ', lasso_cv_mse.mean(), '  SD   ', lasso_cv_mse.std())\n",
    "print('CV score polynomial is   ', poly_cv_mse.mean(), '  SD   ', poly_cv_mse.std())\n",
    "print('CV score spline is      ', spline_cv_mse.mean(), '  SD   ', spline_cv_mse.std())"
   ]
  },
  {
   "cell_type": "code",
   "execution_count": 38,
   "id": "475a65d9-13ac-49b5-8cec-d2921f88fece",
   "metadata": {},
   "outputs": [
    {
     "name": "stdout",
     "output_type": "stream",
     "text": [
      "CV score model 1 on original scale    8.115783695978553\n",
      "CV score model 2 on original scale     7.779268897252393\n",
      "CV score lasso on original scale     8.513774834876921\n",
      "CV score polynomial on original scale    7.783479935988851\n",
      "CV score spline on original scale     7.870224676269741\n"
     ]
    }
   ],
   "source": [
    "print('CV score model 1 on original scale   ', np.expm1(model1_cv_mse.mean()))\n",
    "print('CV score model 2 on original scale    ', np.expm1(model2_cv_mse.mean()))\n",
    "print('CV score lasso on original scale    ', np.expm1(lasso_cv_mse.mean()))\n",
    "print('CV score polynomial on original scale   ', np.expm1(poly_cv_mse.mean()))\n",
    "print('CV score spline on original scale    ', np.expm1(spline_cv_mse.mean()))"
   ]
  },
  {
   "cell_type": "markdown",
   "id": "ab698950-6243-44aa-aecc-c1d124c19bde",
   "metadata": {},
   "source": [
    "Based on cross validation, the best performing model is the model 2 which used rain and FFMC to model the data. This is followed closely by the polynomial model which used only rain transformed to degree 2 to model the data. However, all the models performed similarly with each other and the log transformations show that the linear model is not performing as expected for the data. It suggests that maybe linear model is not the best way to go for this ML model.\n",
    "\n",
    "I will however calculate the residuals for the model 2 with the actual y values and see what the model might be lacking.  Recall that the model 2 was called lm_model2 from above and that the data was split as X2 and y2 for training and testing"
   ]
  },
  {
   "cell_type": "code",
   "execution_count": 39,
   "id": "537fd089-8122-40bc-82e1-add8e822a179",
   "metadata": {},
   "outputs": [],
   "source": [
    "##geting polynomial predictions\n",
    "model2_prediction = lm_model2.predict(X2_test)\n",
    "\n",
    "## transforming the log values to original values\n",
    "true_y = np.expm1(y2_test)\n",
    "prediction = np.expm1(model2_prediction)\n",
    "\n",
    "residuals = true_y - prediction"
   ]
  },
  {
   "cell_type": "code",
   "execution_count": 40,
   "id": "ed322680-c415-41fc-98aa-a75b3a70dc11",
   "metadata": {},
   "outputs": [
    {
     "data": {
      "text/plain": [
       "np.float64(21.149827840366463)"
      ]
     },
     "execution_count": 40,
     "metadata": {},
     "output_type": "execute_result"
    }
   ],
   "source": [
    "residuals_mean = np.mean(residuals)\n",
    "residuals_mean"
   ]
  },
  {
   "cell_type": "code",
   "execution_count": 41,
   "id": "ffe21c30-00d7-4d17-9738-2b57d4a58413",
   "metadata": {},
   "outputs": [
    {
     "data": {
      "image/png": "[encoded data removed]",
      "text/plain": [
       "<Figure size 600x500 with 1 Axes>"
      ]
     },
     "metadata": {},
     "output_type": "display_data"
    }
   ],
   "source": [
    "plt.scatter(prediction, residuals, color='purple', s=10)\n",
    "plt.axhline(residuals_mean, color='red')\n",
    "plt.title('plot or predictions vs residuals')\n",
    "plt.ylabel('residuals')\n",
    "plt.xlabel('predictions')\n",
    "plt.show()"
   ]
  },
  {
   "cell_type": "markdown",
   "id": "367c2abb-0191-44c6-99c3-7bb0cfe14575",
   "metadata": {},
   "source": [
    "### Conclusion\n",
    "As expected from the cross validation results, the linear model performance is not great for our ML in this case. The mean of the residuals is not anywhere near zero and this is is seen in the plot of the residuals. But in anycase, it is good to see how far I could get in trying to model the forest fires by linear regression"
   ]
  },
  {
   "cell_type": "code",
   "execution_count": null,
   "id": "eea36d74-c807-4d44-83ee-a6c9699a5156",
   "metadata": {},
   "outputs": [],
   "source": []
  }
 ],
 "metadata": {
  "kernelspec": {
   "display_name": "Python 3 (ipykernel)",
   "language": "python",
   "name": "python3"
  },
  "language_info": {
   "codemirror_mode": {
    "name": "ipython",
    "version": 3
   },
   "file_extension": ".py",
   "mimetype": "text/x-python",
   "name": "python",
   "nbconvert_exporter": "python",
   "pygments_lexer": "ipython3",
   "version": "3.10.11"
  }
 },
 "nbformat": 4,
 "nbformat_minor": 5
}
